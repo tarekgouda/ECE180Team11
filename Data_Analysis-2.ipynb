{
 "cells": [
  {
   "cell_type": "code",
   "execution_count": 24,
   "metadata": {
    "collapsed": true
   },
   "outputs": [],
   "source": [
    "import json\n",
    "import operator\n",
    "import plotly\n",
    "import plotly.plotly as py\n",
    "import plotly.figure_factory as ff\n",
    "import plotly.graph_objs as go\n",
    "import pandas as pd\n",
    "import random\n",
    "import pylab\n",
    "import matplotlib.pyplot as plt\n",
    "from difflib import get_close_matches\n",
    "from collections import defaultdict\n",
    "import scipy\n",
    "import numpy as np"
   ]
  },
  {
   "cell_type": "code",
   "execution_count": 25,
   "metadata": {
    "collapsed": true
   },
   "outputs": [],
   "source": [
    "plotly.tools.set_credentials_file(username='KavyaP', api_key='MszYFcAggAFUAOdZ92Wx')"
   ]
  },
  {
   "cell_type": "code",
   "execution_count": 26,
   "metadata": {
    "collapsed": true
   },
   "outputs": [],
   "source": [
    "### Reading data from 'business.json'\n",
    "\n",
    "data = []\n",
    "for line in open('business.json','r'): \n",
    "     data.append(json.loads(line))"
   ]
  },
  {
   "cell_type": "code",
   "execution_count": null,
   "metadata": {
    "collapsed": true
   },
   "outputs": [],
   "source": []
  },
  {
   "cell_type": "markdown",
   "metadata": {},
   "source": [
    "### Categories vs Business"
   ]
  },
  {
   "cell_type": "code",
   "execution_count": 18,
   "metadata": {
    "collapsed": true
   },
   "outputs": [],
   "source": [
    "### Counting number of businesses in each category\n",
    "\n",
    "CategoryBasedBus = defaultdict(int)\n",
    "for d in data:\n",
    "    for c in d['categories']:\n",
    "        CategoryBasedBus[c] +=1   "
   ]
  },
  {
   "cell_type": "code",
   "execution_count": 27,
   "metadata": {
    "collapsed": true
   },
   "outputs": [],
   "source": [
    "### Finding the categories with most number of businesses\n",
    "\n",
    "PopularCategory = set()\n",
    "total_reviews_main = 0\n",
    "threshold = 50\n",
    "CategoryBasedBusSorted = {}\n",
    "\n",
    "CategoryBasedBusSorted = dict(sorted(CategoryBasedBus.items(),key=operator.itemgetter(1),reverse=True))\n",
    "review_count = 0\n",
    "for category, review in CategoryBasedBusSorted.items():\n",
    "    PopularCategory.add(category)\n",
    "    review_count += review\n",
    "    if review_count > total_reviews_main*1.0*threshold/(100.0):\n",
    "        break"
   ]
  },
  {
   "cell_type": "code",
   "execution_count": 28,
   "metadata": {},
   "outputs": [
    {
     "name": "stdout",
     "output_type": "stream",
     "text": [
      "Restaurants 54618\n",
      "Shopping 27971\n",
      "Food 24777\n",
      "Beauty & Spas 17014\n",
      "Home Services 16205\n",
      "Health & Medical 14230\n",
      "Nightlife 12154\n",
      "Local Services 11232\n",
      "Automotive 11052\n",
      "Bars 10563\n"
     ]
    }
   ],
   "source": [
    "top_category_list = []\n",
    "top_category_reviews = []\n",
    "count = 0\n",
    "total_rows_in_plot = 9\n",
    "for c,r in CategoryBasedBusSorted.items():\n",
    "    count+=1\n",
    "    print (c,r)\n",
    "    top_category_list.append(c)\n",
    "    top_category_reviews.append(r)\n",
    "    if count > total_rows_in_plot:\n",
    "        break"
   ]
  },
  {
   "cell_type": "code",
   "execution_count": 29,
   "metadata": {},
   "outputs": [
    {
     "data": {
      "text/plain": [
       "(['Restaurants',\n",
       "  'Shopping',\n",
       "  'Food',\n",
       "  'Beauty & Spas',\n",
       "  'Home Services',\n",
       "  'Health & Medical',\n",
       "  'Nightlife',\n",
       "  'Local Services',\n",
       "  'Automotive',\n",
       "  'Bars'],\n",
       " [54618, 27971, 24777, 17014, 16205, 14230, 12154, 11232, 11052, 10563],\n",
       " 0)"
      ]
     },
     "execution_count": 29,
     "metadata": {},
     "output_type": "execute_result"
    }
   ],
   "source": [
    "top_category_list,top_category_reviews, total_reviews_main"
   ]
  },
  {
   "cell_type": "code",
   "execution_count": 30,
   "metadata": {
    "collapsed": true
   },
   "outputs": [],
   "source": [
    "### Plotting the distribution of categories vs number of businesses\n",
    "\n",
    "plot1 = []\n",
    "bad_okay_good=[10000, 20000, 30000,50000,55000]\n",
    "for counter in range(total_rows_in_plot):\n",
    "    plot1.append({\"title\":top_category_list[counter],\"subtitle\":\"dummy\",\"ranges\":bad_okay_good,\"measures\":[top_category_reviews[counter],top_category_reviews[counter]+1],\"markers\":[top_category_reviews[counter]]})\n",
    "plot1 = json.dumps(plot1)"
   ]
  },
  {
   "cell_type": "code",
   "execution_count": 31,
   "metadata": {},
   "outputs": [
    {
     "data": {
      "text/plain": [
       "'file:///Users/kavyaputluri/Documents/ECE 180/Project/restaurant.html'"
      ]
     },
     "execution_count": 31,
     "metadata": {},
     "output_type": "execute_result"
    }
   ],
   "source": [
    "plot1_data = pd.read_json(plot1)\n",
    "fig1 = ff.create_bullet(plot1_data, markers=\"markers\", measures='measures',ranges=\"ranges\",subtitles=\"subtitle\",titles=\"title\")\n",
    "plotly.offline.plot(fig1, filename = \"restaurant.html\")"
   ]
  },
  {
   "cell_type": "markdown",
   "metadata": {
    "collapsed": true
   },
   "source": [
    "### Geographic Distribution"
   ]
  },
  {
   "cell_type": "code",
   "execution_count": null,
   "metadata": {
    "collapsed": true
   },
   "outputs": [],
   "source": [
    "from geopy.geocoders import Nominatim\n",
    "geolocator = Nominatim()"
   ]
  },
  {
   "cell_type": "code",
   "execution_count": null,
   "metadata": {
    "collapsed": true
   },
   "outputs": [],
   "source": [
    "### Filtering the data based on category 'Reaturatnts'\n",
    "\n",
    "restaurant_data = []\n",
    "for d in data:\n",
    "    if 'Restaurants' in d['categories']:\n",
    "        restaurant_data.append(d)"
   ]
  },
  {
   "cell_type": "code",
   "execution_count": null,
   "metadata": {
    "collapsed": true
   },
   "outputs": [],
   "source": [
    "### Counting number of restaurants in each City\n",
    "### Plotting the geographic distribution of the restaurants\n",
    "\n",
    "CityBasedBus = defaultdict(int)\n",
    "PopularCity = set()\n",
    "total_reviews = 0\n",
    "threshold = 70\n",
    "for business in restaurant_data:\n",
    "    city = business['city']\n",
    "    review_count = business['review_count']\n",
    "    CityBasedBus[city] += review_count\n",
    "    total_reviews += review_count\n",
    "    \n",
    "CityBasedBusSorted = dict(sorted(CityBasedBus.items(),key=operator.itemgetter(1), reverse=True))\n",
    "review_count = 0\n",
    "for city, review in CityBasedBusSorted.items():\n",
    "    PopularCity.add(city)\n",
    "    review_count += review\n",
    "    if review_count > total_reviews*1.0*threshold/(100.0):\n",
    "        break"
   ]
  },
  {
   "cell_type": "code",
   "execution_count": null,
   "metadata": {},
   "outputs": [],
   "source": [
    "PopularCityListExpanded = []\n",
    "cityList = list(CityBasedBusSorted.keys())\n",
    "for city in PopularCity:\n",
    "    PopularCityListExpanded += get_close_matches(city, cityList,20)\n",
    "PopularCity"
   ]
  },
  {
   "cell_type": "code",
   "execution_count": null,
   "metadata": {
    "collapsed": true
   },
   "outputs": [],
   "source": [
    "popular_city_restaurant_data = [] #Will act as business.json\n",
    "business_id_to_use = [] #Will be used to generate review.json\n",
    "for business in restaurant_data:\n",
    "    city = business['city']\n",
    "    if city in PopularCityListExpanded:\n",
    "        popular_city_restaurant_data.append(business)\n",
    "        business_id_to_use.append(business['business_id'])"
   ]
  },
  {
   "cell_type": "code",
   "execution_count": null,
   "metadata": {
    "collapsed": true
   },
   "outputs": [],
   "source": [
    "total_cities_plot = 200"
   ]
  },
  {
   "cell_type": "code",
   "execution_count": null,
   "metadata": {
    "collapsed": true
   },
   "outputs": [],
   "source": [
    "count = 0\n",
    "geo_fd = open(\"geogrpahy.csv\",\"w\")\n",
    "geo_fd.write(\"name,review,lat,lon\\n\")\n",
    "for city, review in CityBasedBusSorted.items():\n",
    "    try:\n",
    "        location = geolocator.geocode(city)\n",
    "        geo_fd.write(city+\",\"+str(review)+\",\"+str(location.latitude)+\",\"+str(location.longitude)+\"\\n\")\n",
    "    except:\n",
    "        break\n",
    "    count += 1\n",
    "    if count == total_cities_plot:\n",
    "        break\n",
    "geo_fd.close()\n",
    "total_cities_plot = count"
   ]
  },
  {
   "cell_type": "code",
   "execution_count": null,
   "metadata": {},
   "outputs": [],
   "source": [
    "count = 0\n",
    "cities = []\n",
    "scale = [400,300,200,100,50]\n",
    "df = pd.read_csv('geogrpahy.csv',encoding = \"ISO-8859-1\")\n",
    "df.head()\n",
    "limits = [(0,4),(4,12),(12,24),(24,40),(40,total_cities_plot)]\n",
    "colors = [\"rgb(0,116,217)\",\"rgb(255,65,54)\",\"rgb(133,20,75)\",\"rgb(255,133,27)\",\"lightgrey\"]\n",
    "for i in range(len(limits)):\n",
    "    lim = limits[i]\n",
    "    df_sub = df[lim[0]:lim[1]]\n",
    "    city = dict(\n",
    "        type = 'scattergeo',\n",
    "        locationmode = 'USA-states',\n",
    "        lon = df_sub['lon'],\n",
    "        lat = df_sub['lat'],\n",
    "        marker = dict(\n",
    "            size = df_sub['review']/scale[i],\n",
    "            color = colors[i],\n",
    "            line = dict(width=0.5, color='rgb(40,40,40)'),\n",
    "            sizemode = 'area'\n",
    "        ),\n",
    "    )\n",
    "    cities.append(city)\n",
    "    \n",
    "\n",
    "layout = dict(\n",
    "        title = 'City Based Review Popularity of Restaurants',\n",
    "        showlegend = True,\n",
    "        geo = dict(\n",
    "            scope='usa',\n",
    "            #projection=dict( type='natural earth' ),\n",
    "            showland = True,\n",
    "            landcolor = 'rgb(217, 217, 217)',\n",
    "            subunitwidth=1,\n",
    "            countrywidth=1,\n",
    "            subunitcolor=\"rgb(255, 255, 255)\",\n",
    "            countrycolor=\"rgb(255, 255, 255)\"\n",
    "        ),\n",
    "    )\n",
    "\n",
    "fig2 = dict(data=cities, layout = layout)\n",
    "plotly.offline.plot(fig2, filename=\"geography.html\")\n",
    "    "
   ]
  },
  {
   "cell_type": "code",
   "execution_count": null,
   "metadata": {
    "collapsed": true
   },
   "outputs": [],
   "source": []
  },
  {
   "cell_type": "markdown",
   "metadata": {},
   "source": [
    "### Price Distribution"
   ]
  },
  {
   "cell_type": "code",
   "execution_count": 34,
   "metadata": {},
   "outputs": [],
   "source": [
    "### Plotting the distribution of restaurants according to price\n",
    "\n",
    "restaurant_data = []\n",
    "for d in data:\n",
    "    if 'Restaurants' in d['categories']:\n",
    "        restaurant_data.append(d)"
   ]
  },
  {
   "cell_type": "code",
   "execution_count": 35,
   "metadata": {
    "collapsed": true
   },
   "outputs": [],
   "source": [
    "count = defaultdict(int)\n",
    "\n",
    "for d in restaurant_data:\n",
    "    if 'RestaurantsPriceRange2' in d['attributes']:\n",
    "        count[d['attributes']['RestaurantsPriceRange2']] +=1 \n",
    "    else:\n",
    "        prc = random.randint(1,4)\n",
    "        count[prc] +=1"
   ]
  },
  {
   "cell_type": "code",
   "execution_count": 36,
   "metadata": {},
   "outputs": [
    {
     "data": {
      "text/html": [
       "<iframe id=\"igraph\" scrolling=\"no\" style=\"border:none;\" seamless=\"seamless\" src=\"https://plot.ly/~KavyaP/47.embed\" height=\"525px\" width=\"100%\"></iframe>"
      ],
      "text/plain": [
       "<plotly.tools.PlotlyDisplay object>"
      ]
     },
     "execution_count": 36,
     "metadata": {},
     "output_type": "execute_result"
    }
   ],
   "source": [
    "labels = '1', '2', '3', '4'\n",
    "sizes = [count[1], count[2], count[3], count[4]]\n",
    "trace = go.Pie(labels=labels, values=sizes)\n",
    "\n",
    "py.iplot([trace], filename='basic_pie_chart')"
   ]
  },
  {
   "cell_type": "markdown",
   "metadata": {},
   "source": [
    "### Reviews vs Category"
   ]
  },
  {
   "cell_type": "code",
   "execution_count": 37,
   "metadata": {},
   "outputs": [],
   "source": [
    "### Plotting the distribution of reviews across each category\n",
    "\n",
    "CategoryBasedReviews = defaultdict(int)\n",
    "PopularCategory = set()\n",
    "total_reviews_main = 0\n",
    "threshold = 50\n",
    "for business in data:\n",
    "    categories = business['categories']\n",
    "    review_count = business['review_count']\n",
    "    total_reviews_main += review_count\n",
    "    for category in categories:\n",
    "        CategoryBasedReviews[category] += review_count\n",
    "        \n",
    "    \n",
    "CategoryBasedReviewsSorted = dict(sorted(CategoryBasedReviews.items(),key=operator.itemgetter(1),reverse=True))\n",
    "review_count = 0\n",
    "for category, review in CategoryBasedReviewsSorted.items():\n",
    "    PopularCategory.add(category)\n",
    "    review_count += review\n",
    "    if review_count > total_reviews_main*1.0*threshold/(100.0):\n",
    "        break"
   ]
  },
  {
   "cell_type": "code",
   "execution_count": 38,
   "metadata": {},
   "outputs": [
    {
     "name": "stdout",
     "output_type": "stream",
     "text": [
      "Restaurants 3221032\n",
      "Food 991892\n",
      "Nightlife 877146\n",
      "Bars 806693\n",
      "American (New) 520330\n",
      "American (Traditional) 520318\n",
      "Breakfast & Brunch 461388\n",
      "Event Planning & Services 387017\n"
     ]
    }
   ],
   "source": [
    "top_category_list = []\n",
    "top_category_reviews = []\n",
    "count = 0\n",
    "total_rows_in_plot = 7\n",
    "for c,r in CategoryBasedReviewsSorted.items():\n",
    "    count+=1\n",
    "    print (c,r)\n",
    "    top_category_list.append(c)\n",
    "    top_category_reviews.append(r)\n",
    "    if count > total_rows_in_plot:\n",
    "        break"
   ]
  },
  {
   "cell_type": "code",
   "execution_count": 39,
   "metadata": {
    "collapsed": true
   },
   "outputs": [],
   "source": [
    "plot1 = []\n",
    "bad_okay_good=[500000,1000000,3000000]\n",
    "for counter in range(total_rows_in_plot):\n",
    "    plot1.append({\"title\":top_category_list[counter],\"subtitle\":\"dummy\",\"ranges\":bad_okay_good,\"measures\":[top_category_reviews[counter],top_category_reviews[counter]+1],\"markers\":[top_category_reviews[counter]]})\n",
    "plot1 = json.dumps(plot1)"
   ]
  },
  {
   "cell_type": "code",
   "execution_count": 40,
   "metadata": {},
   "outputs": [
    {
     "data": {
      "text/plain": [
       "'file:///Users/kavyaputluri/Documents/ECE 180/Project/restaurant.html'"
      ]
     },
     "execution_count": 40,
     "metadata": {},
     "output_type": "execute_result"
    }
   ],
   "source": [
    "plot1_data = pd.read_json(plot1)\n",
    "fig1 = ff.create_bullet(plot1_data, markers=\"markers\", measures='measures',ranges=\"ranges\",subtitles=\"subtitle\",titles=\"title\")\n",
    "plotly.offline.plot(fig1, filename = \"restaurant.html\")"
   ]
  },
  {
   "cell_type": "markdown",
   "metadata": {},
   "source": [
    "### Table with attributes"
   ]
  },
  {
   "cell_type": "code",
   "execution_count": 41,
   "metadata": {
    "collapsed": true
   },
   "outputs": [],
   "source": [
    "restaurant_data = []\n",
    "for d in data:\n",
    "    if 'Restaurants' in d['categories']:\n",
    "        restaurant_data.append(d)"
   ]
  },
  {
   "cell_type": "code",
   "execution_count": 42,
   "metadata": {
    "collapsed": true
   },
   "outputs": [],
   "source": [
    "### Business Accepts Credit Cards\n",
    "count_Credit = defaultdict(int)\n",
    "for d in restaurant_data:\n",
    "    if 'BusinessAcceptsCreditCards' in d['attributes']:\n",
    "        count_Credit[d['attributes']['BusinessAcceptsCreditCards']] += 1\n",
    "    else:\n",
    "        pred = random.choice([True, False])\n",
    "        count_Credit[pred] +=1\n",
    "        \n",
    "### Good for Kids        \n",
    "count_GfK = defaultdict(int)\n",
    "for d in restaurant_data:\n",
    "    if 'GoodForKids' in d['attributes']:\n",
    "        count_GfK[d['attributes']['GoodForKids']] += 1\n",
    "    else:\n",
    "        pred = random.choice([True, False])\n",
    "        count_GfK[pred] +=1\n",
    "\n",
    "### Happy Hour\n",
    "count_HH = defaultdict(int)\n",
    "for d in restaurant_data:\n",
    "    if 'HappyHour' in d['attributes']:\n",
    "        count_HH[d['attributes']['HappyHour']] += 1\n",
    "    else:\n",
    "        pred = random.choice([True, False])\n",
    "        count_HH[pred] +=1\n",
    "\n",
    "### HasTV\n",
    "count_TV = defaultdict(int)\n",
    "for d in restaurant_data:\n",
    "    if 'HasTV' in d['attributes']:\n",
    "        count_TV[d['attributes']['HasTV']] += 1\n",
    "    else:\n",
    "        pred = random.choice([True, False])\n",
    "        count_TV[pred] +=1\n",
    "\n",
    "### Good for Groups\n",
    "count_GG = defaultdict(int)\n",
    "for d in restaurant_data:\n",
    "    if 'GoodForGroups' in d['attributes']:\n",
    "        count_GG[d['attributes']['GoodForGroups']] += 1\n",
    "    else:\n",
    "        pred = random.choice([True, False])\n",
    "        count_GG[pred] +=1\n",
    "\n",
    "### Parking\n",
    "count_Pkng = defaultdict(int)\n",
    "for d in restaurant_data:\n",
    "    if 'BusinessParking' in d['attributes']:\n",
    "        count_Pkng[(d['attributes']['BusinessParking']['garage'] or d['attributes']['BusinessParking']['lot'] or d['attributes']['BusinessParking']['street'])] += 1\n",
    "    else:\n",
    "        pred = random.choice([True, False])\n",
    "        count_Pkng[pred] +=1\n",
    "\n",
    "\n",
    "\n"
   ]
  },
  {
   "cell_type": "code",
   "execution_count": 43,
   "metadata": {
    "collapsed": true
   },
   "outputs": [],
   "source": [
    "### Percentage\n",
    "def percent(a,b):\n",
    "    p = (a/(a+b))*100\n",
    "    return round(p,2)\n",
    "\n",
    "percentTrue = []\n",
    "percentTrue.append(percent(count_Credit[True], count_Credit[False]))\n",
    "percentTrue.append(percent(count_GfK[True], count_GfK[False]))\n",
    "percentTrue.append(percent(count_HH[True], count_HH[False]))\n",
    "percentTrue.append(percent(count_TV[True], count_TV[False]))\n",
    "percentTrue.append(percent(count_GG[True], count_GG[False]))\n",
    "percentTrue.append(percent(count_Pkng[True], count_Pkng[False]))\n",
    "\n",
    "percentFalse = []\n",
    "for d in percentTrue:\n",
    "    percentFalse.append(round(100-d,2))\n"
   ]
  },
  {
   "cell_type": "code",
   "execution_count": 44,
   "metadata": {},
   "outputs": [
    {
     "data": {
      "text/html": [
       "<iframe id=\"igraph\" scrolling=\"no\" style=\"border:none;\" seamless=\"seamless\" src=\"https://plot.ly/~KavyaP/3.embed\" height=\"525px\" width=\"100%\"></iframe>"
      ],
      "text/plain": [
       "<plotly.tools.PlotlyDisplay object>"
      ]
     },
     "execution_count": 44,
     "metadata": {},
     "output_type": "execute_result"
    }
   ],
   "source": [
    "trace = go.Table(\n",
    "    header=dict(values=['Attribute', 'True', 'False', '% of True','% of False'],\n",
    "                line = dict(color='#000000'),\n",
    "                fill = dict(color='#a1c3d1'),\n",
    "                align = ['center'] \n",
    "               )\n",
    "    ,\n",
    "    cells=dict(values=[['Business Accepts Credit Cards', 'Good For Kids', 'Happy Hour', 'Has TV','Good For Groups','Business Parking'],\n",
    "                       [count_Credit[True], count_GfK[True], count_HH[True],count_TV[True],count_GG[True],count_Pkng[True]],\n",
    "                       [count_Credit[False], count_GfK[False], count_HH[False],count_TV[False],count_GG[False],count_Pkng[False]],\n",
    "                       [88.25, 78.74, 52.94, 50.13, 50.34, 58.19],\n",
    "                       [11.75, 21.26, 47.06, 49.87, 49.66, 41.81],\n",
    "                       ]))\n",
    "\n",
    "layout = dict(width=600, height=300)\n",
    "datum = [trace]\n",
    "fig = dict(data=datum, layout=layout)\n",
    "py.iplot(datum, filename = 'styled_table')"
   ]
  },
  {
   "cell_type": "code",
   "execution_count": null,
   "metadata": {
    "collapsed": true
   },
   "outputs": [],
   "source": []
  },
  {
   "cell_type": "code",
   "execution_count": null,
   "metadata": {
    "collapsed": true
   },
   "outputs": [],
   "source": []
  }
 ],
 "metadata": {
  "kernelspec": {
   "display_name": "Python 3",
   "language": "python",
   "name": "python3"
  },
  "language_info": {
   "codemirror_mode": {
    "name": "ipython",
    "version": 3
   },
   "file_extension": ".py",
   "mimetype": "text/x-python",
   "name": "python",
   "nbconvert_exporter": "python",
   "pygments_lexer": "ipython3",
   "version": "3.6.3"
  }
 },
 "nbformat": 4,
 "nbformat_minor": 2
}
